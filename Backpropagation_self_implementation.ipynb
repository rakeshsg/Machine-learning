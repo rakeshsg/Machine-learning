{
  "nbformat": 4,
  "nbformat_minor": 0,
  "metadata": {
    "colab": {
      "name": "Backpropagation self-implementation.ipynb",
      "provenance": [],
      "collapsed_sections": []
    },
    "kernelspec": {
      "display_name": "Python 3",
      "language": "python",
      "name": "python3"
    },
    "language_info": {
      "codemirror_mode": {
        "name": "ipython",
        "version": 3
      },
      "file_extension": ".py",
      "mimetype": "text/x-python",
      "name": "python",
      "nbconvert_exporter": "python",
      "pygments_lexer": "ipython3",
      "version": "3.6.3"
    }
  },
  "cells": [
    {
      "cell_type": "markdown",
      "metadata": {
        "id": "y871RZtRhCEH"
      },
      "source": [
        "# <font color='red'>Backpropagation</font>"
      ]
    },
    {
      "cell_type": "markdown",
      "metadata": {
        "id": "LqePYi-4mFvK"
      },
      "source": [
        "Implementing Backpropagation from scratch and then verify the correctness of our implementation using a \"grader\" function/cell.\n",
        "\n",
        "The grader fucntion would help validate the correctness of code. \n",
        "\n",
        "\n"
      ]
    },
    {
      "cell_type": "markdown",
      "metadata": {
        "id": "0huUQ0byiI0I"
      },
      "source": [
        "## <font color='red'>Loading data </font>"
      ]
    },
    {
      "cell_type": "code",
      "metadata": {
        "id": "1hSje5CBgcUb",
        "colab": {
          "base_uri": "https://localhost:8080/"
        },
        "outputId": "2114f3c9-4141-46f8-acec-fbeff41a6448"
      },
      "source": [
        "import pickle\n",
        "import numpy as np\n",
        "from tqdm import tqdm\n",
        "import matplotlib.pyplot as plt\n",
        "\n",
        "with open('data.pkl', 'rb') as f:\n",
        "    data = pickle.load(f)\n",
        "print(data.shape)\n",
        "X = data[:, :5]\n",
        "y = data[:, -1]\n",
        "print(X.shape, y.shape)"
      ],
      "execution_count": null,
      "outputs": [
        {
          "output_type": "stream",
          "name": "stdout",
          "text": [
            "(506, 6)\n",
            "(506, 5) (506,)\n"
          ]
        }
      ]
    },
    {
      "cell_type": "markdown",
      "metadata": {
        "id": "hmphIg_E52Rs"
      },
      "source": [
        "<font color='blue'><b>Checked this video for better understanding of the computational graphs and back propagation</font>"
      ]
    },
    {
      "cell_type": "code",
      "metadata": {
        "colab": {
          "base_uri": "https://localhost:8080/",
          "height": 520
        },
        "id": "uUWpHhgg53eu",
        "outputId": "3cc89735-d0a7-4c1c-aab5-d4e75b856a6b"
      },
      "source": [
        "from IPython.display import YouTubeVideo\n",
        "YouTubeVideo('i94OvYb6noo',width=\"1000\",height=\"500\")"
      ],
      "execution_count": null,
      "outputs": [
        {
          "data": {
            "image/jpeg": "[encoded data removed]",
            "text/html": [
              "\n",
              "        <iframe\n",
              "            width=\"1000\"\n",
              "            height=\"500\"\n",
              "            src=\"https://www.youtube.com/embed/i94OvYb6noo\"\n",
              "            frameborder=\"0\"\n",
              "            allowfullscreen\n",
              "        ></iframe>\n",
              "        "
            ],
            "text/plain": [
              "<IPython.lib.display.YouTubeVideo at 0x7fef8b613f50>"
            ]
          },
          "execution_count": 1,
          "metadata": {},
          "output_type": "execute_result"
        }
      ]
    },
    {
      "cell_type": "markdown",
      "metadata": {
        "id": "5JL-0soQistC"
      },
      "source": [
        "# <font color='red'>Computational graph</font>"
      ]
    },
    {
      "cell_type": "markdown",
      "metadata": {
        "id": "nREnTTJ3i0Vd"
      },
      "source": [
        "<img src='https://i.imgur.com/seSGbNS.png'>"
      ]
    },
    {
      "cell_type": "markdown",
      "metadata": {
        "id": "DSPX_H_4i_HT"
      },
      "source": [
        "\n",
        "*  **If you observe the graph, we are having input features [f1, f2, f3, f4, f5] and 9 weights [w1, w2, w3, w4, w5, w6,    w7, w8, w9]**.<br><br>\n",
        "*  **The final output of this graph is a value L which is computed as (Y-Y')^2** "
      ]
    },
    {
      "cell_type": "markdown",
      "metadata": {
        "id": "D54eDEv6jkO4"
      },
      "source": [
        "## <font color='red'>Task 1: Implementing Forward propagation, Backpropagation and Gradient checking </font>"
      ]
    },
    {
      "cell_type": "markdown",
      "metadata": {
        "id": "xyWK94o_fTKH"
      },
      "source": [
        "# <font color='red'>Task 1.1 </font>"
      ]
    },
    {
      "cell_type": "markdown",
      "metadata": {
        "id": "RwEcPWLffTKI"
      },
      "source": [
        "## <font color='blue'>Forward propagation </font>"
      ]
    },
    {
      "cell_type": "markdown",
      "metadata": {
        "id": "FCZrm-gkfTKI"
      },
      "source": [
        "\n",
        "*  <b>\n",
        "    Forward propagation</b>(code in<font color='blue'> def forward_propagation()</b></font>)<br><br>\n",
        "    For easy debugging, we will break the computational graph into 3 parts.\n",
        "\n",
        "    <font color='green'><b>Part 1</b></font></b>\n",
        "    <img src='https://i.imgur.com/0xUaxy6.png'><br><br>\n",
        "    <font color='green'><b>Part 2</b></font></b><br>\n",
        "    <img src='https://i.imgur.com/J29pAJL.png'><br><br>\n",
        "    <font color='green'><b>Part 3</b></font></b>\n",
        "    <img src='https://i.imgur.com/vMyCsd9.png'>"
      ]
    },
    {
      "cell_type": "code",
      "metadata": {
        "id": "ADCovl2FfTKJ"
      },
      "source": [
        "import math\n",
        "def sigmoid(z):\n",
        "    '''In this function, we will compute the sigmoid(z)'''\n",
        "    sig=1/(1+math.exp(-z))\n",
        "    return sig"
      ],
      "execution_count": null,
      "outputs": []
    },
    {
      "cell_type": "code",
      "metadata": {
        "id": "dLJ-OYwefTKJ",
        "colab": {
          "base_uri": "https://localhost:8080/"
        },
        "outputId": "09866358-c3b0-41e0-87b4-f57e95ccd8af"
      },
      "source": [
        "def grader_sigmoid(z):\n",
        "  #if you have written the code correctly then the grader function will output true\n",
        "  val=sigmoid(z)\n",
        "  assert(val==0.8807970779778823)\n",
        "  return True\n",
        "grader_sigmoid(2)"
      ],
      "execution_count": null,
      "outputs": [
        {
          "output_type": "execute_result",
          "data": {
            "text/plain": [
              "True"
            ]
          },
          "metadata": {},
          "execution_count": 3
        }
      ]
    },
    {
      "cell_type": "code",
      "metadata": {
        "id": "KD3piNkifTKJ"
      },
      "source": [
        "def forward_propagation(x, y, w):\n",
        "        '''In this function, we will compute the forward propagation '''\n",
        "        # X: input data point, note that in this assignment you are having 5-d data points\n",
        "        # y: output varible\n",
        "        # W: weight array, its of length 9, W[0] corresponds to w1 in graph, W[1] corresponds to w2 in graph,..., W[8] corresponds to w9 in graph.  \n",
        "        # you have to return the following variables\n",
        "        # exp= part1 (compute the forward propagation until exp and then store the values in exp)\n",
        "        # tanh =part2(compute the forward propagation until tanh and then store the values in tanh)\n",
        "        # sig = part3(compute the forward propagation until sigmoid and then store the values in sig)\n",
        "        # we are computing one of the values for better understanding\n",
        "        \n",
        "        val1= (w[0]*x[0]+w[1]*x[1]) * (w[0]*x[0]+w[1]*x[1]) + w[5]\n",
        "        part1 = np.exp(val1)\n",
        "        part2=math.tanh(part1+w[6])\n",
        "        val3=(w[3]*x[3])+(w[4]*x[4])\n",
        "        val4=val3*(math.sin(w[2]*x[2]))\n",
        "        val2=val4+w[7]\n",
        "        part3=sigmoid(val4+w[7])  \n",
        "        # after computing part1,part2 and part3 compute the value of y' from the main Computational graph using required equations\n",
        "        # write code to compute the value of L=(y-y')^2 and store it in variable loss\n",
        "        # compute derivative of L  w.r.to y' and store it in dy_pred \n",
        "        # Create a dictionary to store all the intermediate values i.e. dy_pred ,loss,exp,tanh,sigmoid\n",
        "        # we will be using the dictionary to find values in backpropagation, you can add other keys in dictionary as well\n",
        "        ypred=part2+(w[8]*part3)\n",
        "        L=(y-ypred)*(y-ypred)\n",
        "        dypred=-2*(y-ypred)    \n",
        "        forward_dict={}\n",
        "        forward_dict['exp']= part1\n",
        "        forward_dict['sigmoid'] =part3\n",
        "        forward_dict['tanh'] =part2\n",
        "        forward_dict['loss'] =L\n",
        "        forward_dict['dy_pred'] = dypred\n",
        "        forward_dict['val_2']=val2\n",
        "        \n",
        "        return forward_dict"
      ],
      "execution_count": null,
      "outputs": []
    },
    {
      "cell_type": "code",
      "metadata": {
        "id": "vP0iV7f4fTKK",
        "colab": {
          "base_uri": "https://localhost:8080/"
        },
        "outputId": "db554d2d-39e2-46a8-85f4-ad4ad648210e"
      },
      "source": [
        "def grader_forwardprop(data):\n",
        "    dl = (data['dy_pred']==-1.9285278284819143)\n",
        "    loss=(data['loss']==0.9298048963072919)\n",
        "    part1=(data['exp']==1.1272967040973583)\n",
        "    part2=(data['tanh']==0.8417934192562146)\n",
        "    part3=(data['sigmoid']==0.5279179387419721)\n",
        "    assert(dl and loss and part1 and part2 and part3)\n",
        "    return True\n",
        "w=np.ones(9)*0.1\n",
        "d1=forward_propagation(X[0],y[0],w)\n",
        "grader_forwardprop(d1)"
      ],
      "execution_count": null,
      "outputs": [
        {
          "output_type": "execute_result",
          "data": {
            "text/plain": [
              "True"
            ]
          },
          "metadata": {},
          "execution_count": 5
        }
      ]
    },
    {
      "cell_type": "markdown",
      "metadata": {
        "id": "2zcQmvkvfTKL"
      },
      "source": [
        "# <font color='red'>Task 1.2 </font>"
      ]
    },
    {
      "cell_type": "markdown",
      "metadata": {
        "id": "4YVYD18xfTKL"
      },
      "source": [
        "## <font color='blue'>Backward propagation</font>"
      ]
    },
    {
      "cell_type": "code",
      "metadata": {
        "id": "Ld1PMQtffTKL"
      },
      "source": [
        "def backward_propagation(x,y,w,forward_dict):\n",
        "    '''In this function, we will compute the backward propagation '''\n",
        "    # forward_dict: the outputs of the forward_propagation() function\n",
        "    # write code to compute the gradients of each weight [w1,w2,w3,...,w9]\n",
        "    # Hint: you can use dict type to store the required variables \n",
        "    # dw1 = # in dw1 compute derivative of L w.r.to w1\n",
        "    # dw2 = # in dw2 compute derivative of L w.r.to w2\n",
        "    # dw3 = # in dw3 compute derivative of L w.r.to w3\n",
        "    # dw4 = # in dw4 compute derivative of L w.r.to w4\n",
        "    # dw5 = # in dw5 compute derivative of L w.r.to w5\n",
        "    # dw6 = # in dw6 compute derivative of L w.r.to w6\n",
        "    # dw7 = # in dw7 compute derivative of L w.r.to w7\n",
        "    # dw8 = # in dw8 compute derivative of L w.r.to w8\n",
        "    # dw9 = # in dw9 compute derivative of L w.r.to w9\n",
        "    \n",
        "    i3=math.tanh(w[6]+forward_dict['exp'])\n",
        "    dq3=(forward_dict['dy_pred'])*(1-(i3*i3))\n",
        "\n",
        "    dw7=dq3  \n",
        "\n",
        "    val1=(w[0]*x[0]+w[1]*x[1]) * (w[0]*x[0]+w[1]*x[1]) + w[5]\n",
        "    i4=math.exp(val1)\n",
        "    dq4=dq3*i4\n",
        "\n",
        "    dw6=dq4 \n",
        "\n",
        "    i6=(w[0]*x[0])+(w[1]*x[1])\n",
        "    dq6=dq4*i6\n",
        "\n",
        "    dw1=2*dq6*x[0]  \n",
        "\n",
        "    dw2=2*dq6*x[1]\n",
        "\n",
        "    dw9=(forward_dict['dy_pred'])*(forward_dict['sigmoid'])\n",
        "\n",
        "    dp3=(forward_dict['dy_pred'])*w[8]\n",
        "\n",
        "    dq10=dp3*(sigmoid(forward_dict['val_2']))*(1-sigmoid(forward_dict['val_2']))\n",
        "\n",
        "    dw8=dq10\n",
        "     \n",
        "    i12=(w[3]*x[3])+(w[4]*x[4])\n",
        "    dq12=dq10*i12\n",
        "\n",
        "    dq13=dq10*(math.sin(w[2]*x[2]))\n",
        "\n",
        "    dq14=dq12*(math.cos(w[2]*x[2]))\n",
        "\n",
        "    dw3=dq14*x[2]\n",
        "\n",
        "    dw4=dq13*x[3]\n",
        "\n",
        "    dw5=dq13*x[4]\n",
        "    \n",
        "    \n",
        "    backward_dict={}\n",
        "    #store the variables dw1,dw2 etc. in a dict as backward_dict['dw1']= dw1,backward_dict['dw2']= dw2...\n",
        "    backward_dict['dw1']=dw1\n",
        "    backward_dict['dw2']=dw2\n",
        "    backward_dict['dw3']=dw3\n",
        "    backward_dict['dw4']=dw4\n",
        "    backward_dict['dw5']=dw5\n",
        "    backward_dict['dw6']=dw6\n",
        "    backward_dict['dw7']=dw7\n",
        "    backward_dict['dw8']=dw8\n",
        "    backward_dict['dw9']=dw9\n",
        "    \n",
        "    return backward_dict"
      ],
      "execution_count": null,
      "outputs": []
    },
    {
      "cell_type": "code",
      "metadata": {
        "id": "0ipQbNXOfTKM",
        "colab": {
          "base_uri": "https://localhost:8080/"
        },
        "outputId": "09e5015f-81e8-4631-d2f8-356fc8c0f6d1"
      },
      "source": [
        "def grader_backprop(data):\n",
        "    dw1=(np.round(data['dw1'],6)==-0.229733)\n",
        "    dw2=(np.round(data['dw2'],6)==-0.021408)\n",
        "    dw3=(np.round(data['dw3'],6)==-0.005625)\n",
        "    dw4=(np.round(data['dw4'],6)==-0.004658)\n",
        "    dw5=(np.round(data['dw5'],6)==-0.001008)\n",
        "    dw6=(np.round(data['dw6'],6)==-0.633475)\n",
        "    dw7=(np.round(data['dw7'],6)==-0.561942)\n",
        "    dw8=(np.round(data['dw8'],6)==-0.048063)\n",
        "    dw9=(np.round(data['dw9'],6)==-1.018104)\n",
        "    assert(dw1 and dw2 and dw3 and dw4 and dw5 and dw6 and dw7 and dw8 and dw9)\n",
        "    return True \n",
        "w=np.ones(9)*0.1\n",
        "forward_dict=forward_propagation(X[0],y[0],w)\n",
        "backward_dict=backward_propagation(X[0],y[0],w,forward_dict)\n",
        "grader_backprop(backward_dict)"
      ],
      "execution_count": null,
      "outputs": [
        {
          "output_type": "execute_result",
          "data": {
            "text/plain": [
              "True"
            ]
          },
          "metadata": {},
          "execution_count": 7
        }
      ]
    },
    {
      "cell_type": "markdown",
      "metadata": {
        "id": "RlR1JVN5fTKM"
      },
      "source": [
        "# <font color='red'>Task 1.3 </font>"
      ]
    },
    {
      "cell_type": "markdown",
      "metadata": {
        "id": "STS4NrQQc6OH"
      },
      "source": [
        " ## <font color='blue'>Gradient clipping</font>"
      ]
    },
    {
      "cell_type": "markdown",
      "metadata": {
        "id": "XY7ivRNzdPok"
      },
      "source": [
        "<b> Check this  <a href='https://towardsdatascience.com/how-to-debug-a-neural-network-with-gradient-checking-41deec0357a9'>blog link</a> for more details on Gradient clipping"
      ]
    },
    {
      "cell_type": "markdown",
      "metadata": {
        "id": "BrsfpDoidtZ5"
      },
      "source": [
        " we know that the derivative of any function is\n",
        " \n",
        " $$\\lim_{\\epsilon\\to0}\\frac{f(x+\\epsilon)-f(x-\\epsilon)}{2\\epsilon}$$\n"
      ]
    },
    {
      "cell_type": "markdown",
      "metadata": {
        "id": "vUcmt0kPd02f"
      },
      "source": [
        "*  The definition above can be used as a numerical approximation of the derivative. Taking an epsilon small enough, the calculated approximation will have an error in the range of epsilon squared. \n",
        "\n",
        "*  In other words, if epsilon is 0.001, the approximation will be off by 0.00001.\n",
        "\n",
        "Therefore, we can use this to approximate the gradient, and in turn make sure that backpropagation is implemented properly. This forms the basis of <b>gradient checking!</b>"
      ]
    },
    {
      "cell_type": "markdown",
      "metadata": {
        "id": "f1BFQQaCermK"
      },
      "source": [
        "## <font color='red'> Implementing Gradient checking </font> <br>\n",
        " (code in <font color='blue'> def gradient_checking()</font>)"
      ]
    },
    {
      "cell_type": "markdown",
      "metadata": {
        "id": "GqpfA3AqfJba"
      },
      "source": [
        "**Algorithm** \n",
        "\n"
      ]
    },
    {
      "cell_type": "markdown",
      "metadata": {
        "id": "FL39KeRFfNoD"
      },
      "source": [
        "<pre>\n",
        "<font color='darkblue'>\n",
        "W = initilize_randomly\n",
        "def gradient_checking(data_point, W):<font color='grey'>\n",
        "    # compute the L value using forward_propagation()\n",
        "    # compute the gradients of W using backword_propagation()</font>\n",
        "    approx_gradients = []\n",
        "    for each wi weight value in W:<font color='grey'>\n",
        "        # add a small value to weight wi, and then find the values of L with the updated weights\n",
        "        # subtract a small value to weight wi, and then find the values of L with the updated weights\n",
        "        # compute the approximation gradients of weight wi</font>\n",
        "        approx_gradients.append(approximation gradients of weight wi)<font color='grey'>\n",
        "    # compare the gradient of weights W from backword_propagation() with the aproximation gradients of weights with <br>  gradient_check formula</font>\n",
        "    return gradient_check</font>\n",
        "</pre></b>"
      ]
    },
    {
      "cell_type": "code",
      "metadata": {
        "id": "XBoJRqAwfTKO"
      },
      "source": [
        "def gradient_checking(x,y,w,eps):\n",
        "    # compute the dict value using forward_propagation()\n",
        "    # compute the actual gradients of W using backword_propagation()\n",
        "    forward_dict=forward_propagation(x,y,w)\n",
        "    backward_dict=backward_propagation(x,y,w,forward_dict)\n",
        "    \n",
        "    #we are storing the original gradients for the given datapoints in a list\n",
        "    \n",
        "    original_gradients_list=list(backward_dict.values())\n",
        "    \n",
        "    approx_gradients_list=[]\n",
        "    #now we have to write code for approx gradients, here you have to make sure that you update only one weight at a time\n",
        "    #write your code here and append the approximate gradient value for each weight in  approx_gradients_list\n",
        "    for a,wi in enumerate(w):\n",
        "      w[a]=wi+eps\n",
        "      forward_dict1=forward_propagation(x,y,w)\n",
        "      y1=forward_dict1['loss']\n",
        "      w[a]=wi-eps\n",
        "      forward_dict1=forward_propagation(x,y,w)\n",
        "      y2=forward_dict1['loss']\n",
        "      approx=(y1-y2)/(2*eps)\n",
        "      approx_gradients_list.append(approx)\n",
        "      w[a]=wi   \n",
        "    #performing gradient check operation\n",
        "    original_gradients_list=np.array(original_gradients_list)\n",
        "    approx_gradients_list=np.array(approx_gradients_list)\n",
        "    gradient_check_value =(original_gradients_list-approx_gradients_list)/(original_gradients_list+approx_gradients_list)\n",
        "    \n",
        "    return gradient_check_value\n",
        "    "
      ],
      "execution_count": null,
      "outputs": []
    },
    {
      "cell_type": "code",
      "metadata": {
        "id": "aWSU56GffTKO",
        "colab": {
          "base_uri": "https://localhost:8080/"
        },
        "outputId": "ce1fe65f-63bc-4c6b-c7cd-30b6d486b12c"
      },
      "source": [
        "def grader_grad_check(value):\n",
        "    print(value)\n",
        "    assert(np.all(value <= 10**-3))\n",
        "    return True \n",
        "\n",
        "w=[ 0.00271756,  0.01260512,  0.00167639, -0.00207756,  0.00720768,\n",
        "   0.00114524,  0.00684168,  0.02242521,  0.01296444]\n",
        "\n",
        "eps=10**-7\n",
        "value= gradient_checking(X[0],y[0],w,eps)\n",
        "grader_grad_check(value)"
      ],
      "execution_count": null,
      "outputs": [
        {
          "output_type": "stream",
          "name": "stdout",
          "text": [
            "[-1.73921918e-08  1.63713365e-06  5.73356054e-05  3.77243270e-05\n",
            " -1.95446016e-04 -1.16536595e-10 -3.79907639e-10 -1.06774472e-07\n",
            " -7.02865325e-10]\n"
          ]
        },
        {
          "output_type": "execute_result",
          "data": {
            "text/plain": [
              "True"
            ]
          },
          "metadata": {},
          "execution_count": 9
        }
      ]
    },
    {
      "cell_type": "markdown",
      "metadata": {
        "id": "0ufbFBFfhgL0"
      },
      "source": [
        "# <font color='red'> Task 2 : Optimizers </font>"
      ]
    },
    {
      "cell_type": "markdown",
      "metadata": {
        "id": "7zt05soYh1RM"
      },
      "source": [
        "* implementing 2  optimizers(methods to update weight)\n",
        "* Used the same computational graph that was mentioned above to do this task\n",
        "* The weights have been initialized from normal distribution with mean=0 and std=0.01. The initialization of weights is very important otherwiswe you can face vanishing gradient and exploding gradients problem."
      ]
    },
    {
      "cell_type": "markdown",
      "metadata": {
        "id": "CAyi7aSAicbr"
      },
      "source": [
        "**Checked below video for reference purpose**"
      ]
    },
    {
      "cell_type": "code",
      "metadata": {
        "id": "ZogcxiegkQpz"
      },
      "source": [
        "from IPython.display import YouTubeVideo\n",
        "YouTubeVideo('gYpoJMlgyXA',width=\"1000\",height=\"500\")"
      ],
      "execution_count": null,
      "outputs": []
    },
    {
      "cell_type": "markdown",
      "metadata": {
        "id": "jmefh7ktjbaR"
      },
      "source": [
        "<font color='blue'><b>Algorithm</b>"
      ]
    },
    {
      "cell_type": "markdown",
      "metadata": {
        "id": "nAc4NudkjdNa"
      },
      "source": [
        "<pre>\n",
        "    for each epoch(1-20):\n",
        "        for each data point in your data:\n",
        "            using the functions forward_propagation() and backword_propagation() compute the gradients of weights\n",
        "            update the weigts with help of gradients  \n",
        "</pre>"
      ]
    },
    {
      "cell_type": "markdown",
      "metadata": {
        "id": "cv_hZFWalS2z"
      },
      "source": [
        "### <font color='blue'>2.1 Algorithm with Vanilla update of weights</font>"
      ]
    },
    {
      "cell_type": "code",
      "metadata": {
        "id": "KlVuEsRjQoW5",
        "colab": {
          "base_uri": "https://localhost:8080/",
          "height": 370
        },
        "outputId": "48ad46d7-2998-46f4-eb57-7889904027a1"
      },
      "source": [
        "#vanilla update:wt+1=wt-eta*dL/dw\n",
        "import matplotlib.pyplot as plt\n",
        "total_loss=[]\n",
        "epochs=[]\n",
        "w=[ 0.00271756,  0.01260512,  0.00167639, -0.00207756,  0.00720768,\n",
        "   0.00114524,  0.00684168,  0.02242521,  0.01296444]\n",
        "for epoch in range(0,20):\n",
        "  for a,data in enumerate(X):\n",
        "    forward_dict=forward_propagation(data,y[a],w)\n",
        "    backward_dict=backward_propagation(data,y[a],w,forward_dict)\n",
        "    #print()\n",
        "    backward_values=list(backward_dict.values())\n",
        "    #print(type(backward_values))\n",
        "    #print(backward_values)\n",
        "    for i in range(0,len(w)):\n",
        "      w[i]=w[i]-(0.01*backward_values[i])\n",
        "  loss=0.0\n",
        "  for a,data in enumerate(X):\n",
        "    fd1=forward_propagation(data,y[a],w)\n",
        "    loss=loss+fd1['loss']\n",
        "  total_loss.append(loss/len(X))\n",
        "  epochs.append(epoch)\n",
        "print(total_loss)\n",
        "print(epochs)\n",
        "plt.plot(epochs,total_loss)\n",
        "plt.xlabel(\"epochs\")\n",
        "plt.ylabel(\"loss\")\n",
        "plt.title(\"Loss Vs Epoch\")"
      ],
      "execution_count": null,
      "outputs": [
        {
          "output_type": "stream",
          "name": "stdout",
          "text": [
            "[0.035508564290643786, 0.03757822526372132, 0.03756241753842036, 0.037463141140955517, 0.03715678185260857, 0.036227507240923475, 0.033594377080768595, 0.027434425769409392, 0.017935673902504223, 0.009802898754138778, 0.005329552019767011, 0.0032022606986779247, 0.002191868655740056, 0.001694922832459609, 0.0014384504338037674, 0.001297656629896521, 0.0012142446705019209, 0.0011603882667931607, 0.0011224852812199257, 0.0010936815200828672]\n",
            "[0, 1, 2, 3, 4, 5, 6, 7, 8, 9, 10, 11, 12, 13, 14, 15, 16, 17, 18, 19]\n"
          ]
        },
        {
          "output_type": "execute_result",
          "data": {
            "text/plain": [
              "Text(0.5, 1.0, 'Loss Vs Epoch')"
            ]
          },
          "metadata": {},
          "execution_count": 10
        },
        {
          "output_type": "display_data",
          "data": {
            "image/png": "[encoded data removed]",
            "text/plain": [
              "<Figure size 432x288 with 1 Axes>"
            ]
          },
          "metadata": {
            "needs_background": "light"
          }
        }
      ]
    },
    {
      "cell_type": "markdown",
      "metadata": {
        "id": "V4RWWrZ7lWap"
      },
      "source": [
        "### <font color='blue'>2.2 Algorithm with Momentum update of weights</font>"
      ]
    },
    {
      "cell_type": "markdown",
      "metadata": {
        "id": "oM2BAasL6zz4"
      },
      "source": [
        "<img src='https://i.imgur.com/gyPSXhS.png'>"
      ]
    },
    {
      "cell_type": "markdown",
      "metadata": {
        "id": "2iCc4sIE-4A-"
      },
      "source": [
        "Here Gamma referes to the momentum coefficient, eta is leaning rate and v_t is moving average of our gradients at timestep t"
      ]
    },
    {
      "cell_type": "code",
      "source": [
        "#Momentum based gradient descent update rule\n",
        "import matplotlib.pyplot as plt\n",
        "total_loss=[]\n",
        "epochs=[]\n",
        "v=[0,0,0,0,0,0,0,0,0]\n",
        "gamma=0.9\n",
        "w=[ 0.00271756,  0.01260512,  0.00167639, -0.00207756,  0.00720768,\n",
        "   0.00114524,  0.00684168,  0.02242521,  0.01296444]\n",
        "for epoch in range(0,20):\n",
        "  for a,data in enumerate(X):\n",
        "    forward_dict=forward_propagation(data,y[a],w)\n",
        "    backward_dict=backward_propagation(data,y[a],w,forward_dict)\n",
        "    #print()\n",
        "    backward_values=list(backward_dict.values())\n",
        "    #print(type(backward_values))\n",
        "    #print(backward_values)\n",
        "    for i in range(0,len(v)):\n",
        "      v[i]=(gamma*v[i])+(0.01*backward_values[i])\n",
        "    for i in range(0,len(w)):\n",
        "      w[i]=w[i]-v[i]\n",
        "  loss=0.0\n",
        "  for a,data in enumerate(X):\n",
        "    fd1=forward_propagation(data,y[a],w)\n",
        "    loss=loss+fd1['loss']\n",
        "  total_loss.append(loss/len(X))\n",
        "  epochs.append(epoch)\n",
        "print(total_loss)\n",
        "print(epochs)\n",
        "plt.plot(epochs,total_loss)\n",
        "plt.xlabel(\"epochs\")\n",
        "plt.ylabel(\"loss\")\n",
        "plt.title(\"Loss Vs Epoch\")"
      ],
      "metadata": {
        "colab": {
          "base_uri": "https://localhost:8080/",
          "height": 370
        },
        "id": "TY-waOr_5557",
        "outputId": "56d82157-88aa-4911-8663-95c2eb8e4aea"
      },
      "execution_count": null,
      "outputs": [
        {
          "output_type": "stream",
          "name": "stdout",
          "text": [
            "[0.029913499244839305, 0.0032762177918064252, 0.0022258892526683988, 0.002068207785583905, 0.0019197432728182717, 0.0017306318750500336, 0.0015302276820481448, 0.0013342589356783593, 0.00115052221914405, 0.000983188637887642, 0.0008341949299446168, 0.0007038896313257638, 0.0005915265257160974, 0.0004956851203203397, 0.00041460430963122767, 0.0003464217732093514, 0.00028932859005811716, 0.000241657441430625, 0.00020192392831736575, 0.0001688375985533983]\n",
            "[0, 1, 2, 3, 4, 5, 6, 7, 8, 9, 10, 11, 12, 13, 14, 15, 16, 17, 18, 19]\n"
          ]
        },
        {
          "output_type": "execute_result",
          "data": {
            "text/plain": [
              "Text(0.5, 1.0, 'Loss Vs Epoch')"
            ]
          },
          "metadata": {},
          "execution_count": 11
        },
        {
          "output_type": "display_data",
          "data": {
            "image/png": "[encoded data removed]",
            "text/plain": [
              "<Figure size 432x288 with 1 Axes>"
            ]
          },
          "metadata": {
            "needs_background": "light"
          }
        }
      ]
    },
    {
      "cell_type": "markdown",
      "metadata": {
        "id": "Agtmr_lZQoW6"
      },
      "source": [
        "### <font color='blue'>2.3 Algorithm with Adam update of weights</font>"
      ]
    },
    {
      "cell_type": "markdown",
      "metadata": {
        "id": "WRYiT2KKQoW6"
      },
      "source": [
        "<img src='https://i.imgur.com/GDR8UFP.jpg'>"
      ]
    },
    {
      "cell_type": "code",
      "source": [
        "#Momentum based gradient descent update rule\n",
        "import matplotlib.pyplot as plt\n",
        "total_loss=[]\n",
        "epochs=[]\n",
        "v=[0,0,0,0,0,0,0,0,0]\n",
        "vt=[0,0,0,0,0,0,0,0,0]\n",
        "m=[0,0,0,0,0,0,0,0,0]\n",
        "mt=[0,0,0,0,0,0,0,0,0]\n",
        "beta1=0.9\n",
        "beta2=0.999\n",
        "gamma=0.9\n",
        "#w=np.ones(9)*0.1\n",
        "w=[ 0.00271756,  0.01260512,  0.00167639, -0.00207756,  0.00720768, 0.00114524,  0.00684168,  0.02242521,  0.01296444]\n",
        "for epoch in range(0,200):\n",
        "  d1,d2,d3,d4,d5,d6,d7,d8,d9,b=0,0,0,0,0,0,0,0,0,0\n",
        "  backward_values=[]\n",
        "  for a,data in enumerate(X):\n",
        "    forward_dict=forward_propagation(data,y[a],w)\n",
        "    fd2=forward_dict['loss']\n",
        "    b=b+fd2\n",
        "    backward_dict=backward_propagation(data,y[a],w,forward_dict)\n",
        "    d1=d1+backward_dict['dw1']\n",
        "    d2=d2+backward_dict['dw2']\n",
        "    d3=d3+backward_dict['dw3']\n",
        "    d4=d4+backward_dict['dw4']\n",
        "    d5=d5+backward_dict['dw5']\n",
        "    d6=d6+backward_dict['dw6']\n",
        "    d7=d7+backward_dict['dw7']\n",
        "    d8=d8+backward_dict['dw8']\n",
        "    d9=d9+backward_dict['dw9']\n",
        "  backward_values.append(d1/len(X))\n",
        "  backward_values.append(d2/len(X))\n",
        "  backward_values.append(d3/len(X))\n",
        "  backward_values.append(d4/len(X))\n",
        "  backward_values.append(d5/len(X))\n",
        "  backward_values.append(d6/len(X))\n",
        "  backward_values.append(d7/len(X))\n",
        "  backward_values.append(d8/len(X))\n",
        "  backward_values.append(d9/len(X))\n",
        "    #print()\n",
        "    #backward_values=list(backward_dict.values())\n",
        "    #print(type(backward_values))\n",
        "    #print(backward_values)\n",
        "  for i in range(0,len(v)):\n",
        "      v[i]=(beta2*v[i])+((1-beta2)*(backward_values[i]*backward_values[i]))\n",
        "    #print(a)\n",
        "   # print(v)\n",
        "  for i in range(0,len(m)):\n",
        "      m[i]=(beta1*m[i])+((1-beta1)*(backward_values[i]))\n",
        "    #print(a)\n",
        "    #print(m)\n",
        "  for i in range(0,len(mt)):\n",
        "      mt[i]=m[i]/(1-pow(beta1,epoch+1))\n",
        "    #print(a)\n",
        "    #print(mt)\n",
        "    #print(mt)\n",
        "  for i in range(0,len(vt)):\n",
        "      vt[i]=v[i]/(1-pow(beta2,epoch+1))\n",
        "    #print(a)\n",
        "    #print(vt)\n",
        "    #print(vt)\n",
        "  for i in range(0,len(w)):\n",
        "      w[i]=w[i]-((0.01*mt[i])/(np.sqrt(vt[i])+1e-8))\n",
        "  loss=0.0\n",
        "  for a,data in enumerate(X):\n",
        "    fd1=forward_propagation(data,y[a],w)\n",
        "    loss=loss+fd1['loss']\n",
        "  total_loss.append(loss/len(X))\n",
        "  epochs.append(epoch)\n",
        "print(total_loss)\n",
        "print(epochs)\n",
        "plt.plot(epochs,total_loss)\n",
        "plt.xlabel(\"epochs\")\n",
        "plt.ylabel(\"loss\")\n",
        "plt.title(\"Loss Vs Epoch\")"
      ],
      "metadata": {
        "colab": {
          "base_uri": "https://localhost:8080/",
          "height": 370
        },
        "id": "uPjMbMXoWi6f",
        "outputId": "fe19440c-8cd7-460f-87d0-d002f3c0b111"
      },
      "execution_count": null,
      "outputs": [
        {
          "output_type": "stream",
          "name": "stdout",
          "text": [
            "[1.020489366119693, 0.99343196529566, 0.966687855176515, 0.9402805321741091, 0.9142325139874521, 0.8885661158930314, 0.8633038388238851, 0.8384685439152239, 0.814083489523327, 0.7901722621184222, 0.7667586118773125, 0.7438661943332485, 0.7215182159071464, 0.6997369815955907, 0.6785433468833802, 0.6579560828886127, 0.6379911736217819, 0.6186610764681574, 0.5999739903651622, 0.5819331886002874, 0.5645364818454798, 0.5477758786478352, 0.5316375021047096, 0.5161018013404949, 0.5011440658640972, 0.48673521448925827, 0.47284279561525233, 0.45943211042641263, 0.44646736098697415, 0.4339127327947186, 0.42173334258207845, 0.4098960100945382, 0.3983698398409561, 0.38712662013673155, 0.37614106011879184, 0.3653908915008951, 0.3548568627432509, 0.3445226512386186, 0.3343747157173407, 0.32440210732698943, 0.3145962542409978, 0.3049507314162237, 0.295461024344337, 0.28612429335367195, 0.2769391432026469, 0.267905401318701, 0.2590239070142029, 0.25029631328070373, 0.24172490225366364, 0.23331241508678402, 0.2250618967242382, 0.2169765558681681, 0.20905964027729024, 0.20131432738045912, 0.1937436300356948, 0.18635031710689903, 0.17913684836874535, 0.17210532309011872, 0.1652574414947195, 0.15859447816127978, 0.15211726631178027, 0.14582619184925044, 0.13972119595049728, 0.13380178499471027, 0.12806704661568794, 0.12251567070108896, 0.11714597422292368, 0.11195592886487188, 0.1069431905088255, 0.10210512975009695, 0.0974388627230312, 0.09294128163181634, 0.08860908449127897, 0.08443880368631221, 0.0804268330540486, 0.07656945327841652, 0.07286285546150047, 0.06930316279989283, 0.06588645034721557, 0.06260876288678488, 0.05946613097184332, 0.05645458521587095, 0.053570168933303144, 0.05080894924260011, 0.04816702675008786, 0.04564054393529419, 0.04322569235752789, 0.04091871879996633, 0.038715930462198046, 0.036613699305585216, 0.03460846564842221, 0.032696741100045605, 0.030875110915109468, 0.02914023584137488, 0.02748885352676969, 0.025917779544255372, 0.024423908086275738, 0.02300421237430633, 0.021655744823295953, 0.020375636995595022, 0.019161099374290533, 0.018009420981695452, 0.01691796886504155, 0.01588418746817213, 0.014905597905183874, 0.013979797149500399, 0.013104457149728575, 0.012277323881828709, 0.01149621634557977, 0.010759025512018986, 0.010063713227445384, 0.0094083110786795, 0.008790919223536177, 0.008209705189877323, 0.0076629026461430385, 0.00714881014589634, 0.0066657898486414, 0.006212266218975159, 0.005786724705991301, 0.005387710404765862, 0.005013826701702436, 0.0046637339054948716, 0.004336147865467481, 0.004029838579072153, 0.0037436287903505282, 0.0034763925812048616, 0.0032270539573577587, 0.0029945854309159385, 0.0027780066014839564, 0.0025763827377978067, 0.002388823361864011, 0.002214480837596361, 0.0020525489659385535, 0.0019022615884464245, 0.001762891201277866, 0.0016337475815023682, 0.001514176427595098, 0.0014035580159236691, 0.0013013058749692117, 0.0012068654789483522, 0.0011197129624196426, 0.0010393538573679729, 0.0009653218541644127, 0.0008971775876976523, 0.0008345074498678908, 0.0007769224295254078, 0.0007240569808251628, 0.0006755679208566495, 0.000631133357295509, 0.0005904516467110416, 0.0005532403840525425, 0.0005192354237279456, 0.0004881899325812935, 0.0004598734749716158, 0.000434071130055492, 0.0004105826412791579, 0.0003892215979942426, 0.0003698146490238939, 0.0003522007479241019, 0.00033623042960791887, 0.00032176511792890715, 0.00030867646375400115, 0.00029684571299554147, 0.00028616310401722764, 0.00027652729377934535, 0.0002678448120446486, 0.000260029542927579, 0.00025300223303615987, 0.0002466900254274365, 0.00024102601857385999, 0.0002359488495191281, 0.000231402300387589, 0.00022733492740107663, 0.00022369971155080927, 0.00022045373006944672, 0.00021755784784931046, 0.00021497642795692353, 0.00021267706040107337, 0.00021063030832140032, 0.00020880947077671504, 0.0002071903613266488, 0.00020575110161664547, 0.00020447192919435402, 0.00020333501880513168, 0.0002023243164352354, 0.00020142538539326377, 0.00020062526374331743, 0.00019991233242692557, 0.00019927619343493362, 0.00019870755741510437, 0.0001981981401259403, 0.0001977405671721195, 0.0001973282864818358, 0.00019695548801103044, 0.00019661703018403643, 0.00019630837260432998, 0.00019602551459285008, 0.00019576493913466204, 0.00019552356183746947, 0.00019529868452767394]\n",
            "[0, 1, 2, 3, 4, 5, 6, 7, 8, 9, 10, 11, 12, 13, 14, 15, 16, 17, 18, 19, 20, 21, 22, 23, 24, 25, 26, 27, 28, 29, 30, 31, 32, 33, 34, 35, 36, 37, 38, 39, 40, 41, 42, 43, 44, 45, 46, 47, 48, 49, 50, 51, 52, 53, 54, 55, 56, 57, 58, 59, 60, 61, 62, 63, 64, 65, 66, 67, 68, 69, 70, 71, 72, 73, 74, 75, 76, 77, 78, 79, 80, 81, 82, 83, 84, 85, 86, 87, 88, 89, 90, 91, 92, 93, 94, 95, 96, 97, 98, 99, 100, 101, 102, 103, 104, 105, 106, 107, 108, 109, 110, 111, 112, 113, 114, 115, 116, 117, 118, 119, 120, 121, 122, 123, 124, 125, 126, 127, 128, 129, 130, 131, 132, 133, 134, 135, 136, 137, 138, 139, 140, 141, 142, 143, 144, 145, 146, 147, 148, 149, 150, 151, 152, 153, 154, 155, 156, 157, 158, 159, 160, 161, 162, 163, 164, 165, 166, 167, 168, 169, 170, 171, 172, 173, 174, 175, 176, 177, 178, 179, 180, 181, 182, 183, 184, 185, 186, 187, 188, 189, 190, 191, 192, 193, 194, 195, 196, 197, 198, 199]\n"
          ]
        },
        {
          "output_type": "execute_result",
          "data": {
            "text/plain": [
              "Text(0.5, 1.0, 'Loss Vs Epoch')"
            ]
          },
          "metadata": {},
          "execution_count": 12
        },
        {
          "output_type": "display_data",
          "data": {
            "image/png": "[encoded data removed]",
            "text/plain": [
              "<Figure size 432x288 with 1 Axes>"
            ]
          },
          "metadata": {
            "needs_background": "light"
          }
        }
      ]
    }
  ]
}